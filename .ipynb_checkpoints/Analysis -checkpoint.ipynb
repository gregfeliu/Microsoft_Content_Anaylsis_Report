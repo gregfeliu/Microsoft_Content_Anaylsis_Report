{
 "cells": [
  {
   "cell_type": "code",
   "execution_count": 1,
   "metadata": {},
   "outputs": [],
   "source": [
    "import pandas as pd\n",
    "import mysql.connector\n",
    "import seaborn as sns"
   ]
  },
  {
   "cell_type": "code",
   "execution_count": 2,
   "metadata": {},
   "outputs": [],
   "source": [
    "cnx = mysql.connector.connect(host= 'database-1.cnp2v41lukiw.us-east-2.rds.amazonaws.com',\n",
    "                              user= 'Jackson',\n",
    "                              passwd='1234',\n",
    "                              database='themoviedb'\n",
    ")\n",
    "cursor = cnx.cursor()"
   ]
  },
  {
   "cell_type": "code",
   "execution_count": 3,
   "metadata": {},
   "outputs": [],
   "source": [
    "results = cursor.execute('''SELECT * FROM The_Big_Table''')"
   ]
  },
  {
   "cell_type": "code",
   "execution_count": 4,
   "metadata": {},
   "outputs": [],
   "source": [
    "results = cursor.fetchall()"
   ]
  },
  {
   "cell_type": "code",
   "execution_count": 5,
   "metadata": {},
   "outputs": [],
   "source": [
    "df = pd.DataFrame(results)\n"
   ]
  },
  {
   "cell_type": "code",
   "execution_count": 53,
   "metadata": {},
   "outputs": [],
   "source": []
  },
  {
   "cell_type": "code",
   "execution_count": 6,
   "metadata": {},
   "outputs": [],
   "source": []
  },
  {
   "cell_type": "code",
   "execution_count": 8,
   "metadata": {},
   "outputs": [
    {
     "data": {
      "text/plain": [
       "0      419704\n",
       "1      335988\n",
       "2      290859\n",
       "3      299536\n",
       "4      429617\n",
       "        ...  \n",
       "713    577902\n",
       "714    472849\n",
       "715    444922\n",
       "716    404798\n",
       "717    390149\n",
       "Name: ID, Length: 718, dtype: int64"
      ]
     },
     "execution_count": 8,
     "metadata": {},
     "output_type": "execute_result"
    }
   ],
   "source": []
  },
  {
   "cell_type": "code",
   "execution_count": 7,
   "metadata": {},
   "outputs": [],
   "source": []
  },
  {
   "cell_type": "code",
   "execution_count": null,
   "metadata": {},
   "outputs": [],
   "source": []
  },
  {
   "cell_type": "code",
   "execution_count": 58,
   "metadata": {},
   "outputs": [],
   "source": []
  },
  {
   "cell_type": "code",
   "execution_count": null,
   "metadata": {},
   "outputs": [],
   "source": []
  },
  {
   "cell_type": "code",
   "execution_count": 70,
   "metadata": {},
   "outputs": [],
   "source": []
  },
  {
   "cell_type": "code",
   "execution_count": 75,
   "metadata": {},
   "outputs": [],
   "source": [
    "#create a new column for profit\n",
    "df5['profit'] = df5.apply(lambda row: (row['revenue'] - \n",
    "                                  row['budget']), axis = 1)"
   ]
  },
  {
   "cell_type": "code",
   "execution_count": 76,
   "metadata": {},
   "outputs": [
    {
     "data": {
      "text/html": [
       "<div>\n",
       "<style scoped>\n",
       "    .dataframe tbody tr th:only-of-type {\n",
       "        vertical-align: middle;\n",
       "    }\n",
       "\n",
       "    .dataframe tbody tr th {\n",
       "        vertical-align: top;\n",
       "    }\n",
       "\n",
       "    .dataframe thead th {\n",
       "        text-align: right;\n",
       "    }\n",
       "</style>\n",
       "<table border=\"1\" class=\"dataframe\">\n",
       "  <thead>\n",
       "    <tr style=\"text-align: right;\">\n",
       "      <th></th>\n",
       "      <th>ID</th>\n",
       "      <th>Title</th>\n",
       "      <th>Release Date</th>\n",
       "      <th>Popularity</th>\n",
       "      <th>Vote AVG</th>\n",
       "      <th>Vote Count</th>\n",
       "      <th>Genre ID</th>\n",
       "      <th>Original Language</th>\n",
       "      <th>MetaCritic Score</th>\n",
       "      <th>Unnamed: 0</th>\n",
       "      <th>belongs_to_collection</th>\n",
       "      <th>budget</th>\n",
       "      <th>revenue</th>\n",
       "      <th>runtime</th>\n",
       "      <th>profit</th>\n",
       "    </tr>\n",
       "  </thead>\n",
       "  <tbody>\n",
       "    <tr>\n",
       "      <td>0</td>\n",
       "      <td>419704</td>\n",
       "      <td>Ad Astra</td>\n",
       "      <td>2019</td>\n",
       "      <td>379.049</td>\n",
       "      <td>6</td>\n",
       "      <td>2099</td>\n",
       "      <td>[12, 18, 9648, 878, 53]</td>\n",
       "      <td>en</td>\n",
       "      <td>80</td>\n",
       "      <td>0</td>\n",
       "      <td>False</td>\n",
       "      <td>87500000</td>\n",
       "      <td>127175922</td>\n",
       "      <td>123.0</td>\n",
       "      <td>39675922</td>\n",
       "    </tr>\n",
       "    <tr>\n",
       "      <td>1</td>\n",
       "      <td>335988</td>\n",
       "      <td>Transformers: The Last Knight</td>\n",
       "      <td>2017</td>\n",
       "      <td>83.858</td>\n",
       "      <td>6</td>\n",
       "      <td>3571</td>\n",
       "      <td>[28, 12, 878, 53]</td>\n",
       "      <td>en</td>\n",
       "      <td>27</td>\n",
       "      <td>1</td>\n",
       "      <td>True</td>\n",
       "      <td>217000000</td>\n",
       "      <td>605425157</td>\n",
       "      <td>149.0</td>\n",
       "      <td>388425157</td>\n",
       "    </tr>\n",
       "    <tr>\n",
       "      <td>2</td>\n",
       "      <td>290859</td>\n",
       "      <td>Terminator: Dark Fate</td>\n",
       "      <td>2019</td>\n",
       "      <td>138.576</td>\n",
       "      <td>6</td>\n",
       "      <td>1191</td>\n",
       "      <td>[28, 878]</td>\n",
       "      <td>en</td>\n",
       "      <td>54</td>\n",
       "      <td>2</td>\n",
       "      <td>True</td>\n",
       "      <td>185000000</td>\n",
       "      <td>233685077</td>\n",
       "      <td>128.0</td>\n",
       "      <td>48685077</td>\n",
       "    </tr>\n",
       "    <tr>\n",
       "      <td>3</td>\n",
       "      <td>299536</td>\n",
       "      <td>Avengers: Infinity War</td>\n",
       "      <td>2018</td>\n",
       "      <td>78.825</td>\n",
       "      <td>8</td>\n",
       "      <td>16570</td>\n",
       "      <td>[28, 12, 878]</td>\n",
       "      <td>en</td>\n",
       "      <td>68</td>\n",
       "      <td>3</td>\n",
       "      <td>True</td>\n",
       "      <td>300000000</td>\n",
       "      <td>2046239637</td>\n",
       "      <td>149.0</td>\n",
       "      <td>1746239637</td>\n",
       "    </tr>\n",
       "    <tr>\n",
       "      <td>4</td>\n",
       "      <td>429617</td>\n",
       "      <td>Spider-Man: Far from Home</td>\n",
       "      <td>2019</td>\n",
       "      <td>55.743</td>\n",
       "      <td>8</td>\n",
       "      <td>5837</td>\n",
       "      <td>[28, 12, 878]</td>\n",
       "      <td>en</td>\n",
       "      <td>69</td>\n",
       "      <td>4</td>\n",
       "      <td>True</td>\n",
       "      <td>160000000</td>\n",
       "      <td>1131450163</td>\n",
       "      <td>129.0</td>\n",
       "      <td>971450163</td>\n",
       "    </tr>\n",
       "    <tr>\n",
       "      <td>...</td>\n",
       "      <td>...</td>\n",
       "      <td>...</td>\n",
       "      <td>...</td>\n",
       "      <td>...</td>\n",
       "      <td>...</td>\n",
       "      <td>...</td>\n",
       "      <td>...</td>\n",
       "      <td>...</td>\n",
       "      <td>...</td>\n",
       "      <td>...</td>\n",
       "      <td>...</td>\n",
       "      <td>...</td>\n",
       "      <td>...</td>\n",
       "      <td>...</td>\n",
       "      <td>...</td>\n",
       "    </tr>\n",
       "    <tr>\n",
       "      <td>694</td>\n",
       "      <td>36668</td>\n",
       "      <td>X-Men: The Last Stand</td>\n",
       "      <td>2006</td>\n",
       "      <td>1.041</td>\n",
       "      <td>6</td>\n",
       "      <td>6424</td>\n",
       "      <td>[28, 12, 878, 53]</td>\n",
       "      <td>en</td>\n",
       "      <td>58</td>\n",
       "      <td>694</td>\n",
       "      <td>True</td>\n",
       "      <td>210000000</td>\n",
       "      <td>459359555</td>\n",
       "      <td>104.0</td>\n",
       "      <td>249359555</td>\n",
       "    </tr>\n",
       "    <tr>\n",
       "      <td>696</td>\n",
       "      <td>330</td>\n",
       "      <td>The Lost World: Jurassic Park</td>\n",
       "      <td>1997</td>\n",
       "      <td>1.030</td>\n",
       "      <td>6</td>\n",
       "      <td>4923</td>\n",
       "      <td>[28, 12, 878]</td>\n",
       "      <td>en</td>\n",
       "      <td>59</td>\n",
       "      <td>696</td>\n",
       "      <td>True</td>\n",
       "      <td>73000000</td>\n",
       "      <td>618638999</td>\n",
       "      <td>129.0</td>\n",
       "      <td>545638999</td>\n",
       "    </tr>\n",
       "    <tr>\n",
       "      <td>697</td>\n",
       "      <td>331</td>\n",
       "      <td>Jurassic Park III</td>\n",
       "      <td>2001</td>\n",
       "      <td>0.807</td>\n",
       "      <td>6</td>\n",
       "      <td>4224</td>\n",
       "      <td>[12, 28, 53, 878]</td>\n",
       "      <td>en</td>\n",
       "      <td>42</td>\n",
       "      <td>697</td>\n",
       "      <td>True</td>\n",
       "      <td>93000000</td>\n",
       "      <td>368780809</td>\n",
       "      <td>92.0</td>\n",
       "      <td>275780809</td>\n",
       "    </tr>\n",
       "    <tr>\n",
       "      <td>701</td>\n",
       "      <td>173897</td>\n",
       "      <td>Resident Evil: The Final Chapter</td>\n",
       "      <td>2016</td>\n",
       "      <td>0.806</td>\n",
       "      <td>6</td>\n",
       "      <td>1690</td>\n",
       "      <td>[28, 27, 878]</td>\n",
       "      <td>en</td>\n",
       "      <td>49</td>\n",
       "      <td>701</td>\n",
       "      <td>True</td>\n",
       "      <td>40000000</td>\n",
       "      <td>312242626</td>\n",
       "      <td>107.0</td>\n",
       "      <td>272242626</td>\n",
       "    </tr>\n",
       "    <tr>\n",
       "      <td>704</td>\n",
       "      <td>35791</td>\n",
       "      <td>Resident Evil: Afterlife</td>\n",
       "      <td>2010</td>\n",
       "      <td>0.605</td>\n",
       "      <td>6</td>\n",
       "      <td>2308</td>\n",
       "      <td>[28, 12, 27, 878]</td>\n",
       "      <td>en</td>\n",
       "      <td>37</td>\n",
       "      <td>704</td>\n",
       "      <td>True</td>\n",
       "      <td>60000000</td>\n",
       "      <td>300228084</td>\n",
       "      <td>97.0</td>\n",
       "      <td>240228084</td>\n",
       "    </tr>\n",
       "  </tbody>\n",
       "</table>\n",
       "<p>510 rows × 15 columns</p>\n",
       "</div>"
      ],
      "text/plain": [
       "         ID                             Title Release Date  Popularity  \\\n",
       "0    419704                          Ad Astra         2019     379.049   \n",
       "1    335988     Transformers: The Last Knight         2017      83.858   \n",
       "2    290859             Terminator: Dark Fate         2019     138.576   \n",
       "3    299536            Avengers: Infinity War         2018      78.825   \n",
       "4    429617         Spider-Man: Far from Home         2019      55.743   \n",
       "..      ...                               ...          ...         ...   \n",
       "694   36668             X-Men: The Last Stand         2006       1.041   \n",
       "696     330     The Lost World: Jurassic Park         1997       1.030   \n",
       "697     331                 Jurassic Park III         2001       0.807   \n",
       "701  173897  Resident Evil: The Final Chapter         2016       0.806   \n",
       "704   35791          Resident Evil: Afterlife         2010       0.605   \n",
       "\n",
       "     Vote AVG  Vote Count                 Genre ID Original Language  \\\n",
       "0           6        2099  [12, 18, 9648, 878, 53]                en   \n",
       "1           6        3571        [28, 12, 878, 53]                en   \n",
       "2           6        1191                [28, 878]                en   \n",
       "3           8       16570            [28, 12, 878]                en   \n",
       "4           8        5837            [28, 12, 878]                en   \n",
       "..        ...         ...                      ...               ...   \n",
       "694         6        6424        [28, 12, 878, 53]                en   \n",
       "696         6        4923            [28, 12, 878]                en   \n",
       "697         6        4224        [12, 28, 53, 878]                en   \n",
       "701         6        1690            [28, 27, 878]                en   \n",
       "704         6        2308        [28, 12, 27, 878]                en   \n",
       "\n",
       "     MetaCritic Score  Unnamed: 0  belongs_to_collection     budget  \\\n",
       "0                  80           0                  False   87500000   \n",
       "1                  27           1                   True  217000000   \n",
       "2                  54           2                   True  185000000   \n",
       "3                  68           3                   True  300000000   \n",
       "4                  69           4                   True  160000000   \n",
       "..                ...         ...                    ...        ...   \n",
       "694                58         694                   True  210000000   \n",
       "696                59         696                   True   73000000   \n",
       "697                42         697                   True   93000000   \n",
       "701                49         701                   True   40000000   \n",
       "704                37         704                   True   60000000   \n",
       "\n",
       "        revenue  runtime      profit  \n",
       "0     127175922    123.0    39675922  \n",
       "1     605425157    149.0   388425157  \n",
       "2     233685077    128.0    48685077  \n",
       "3    2046239637    149.0  1746239637  \n",
       "4    1131450163    129.0   971450163  \n",
       "..          ...      ...         ...  \n",
       "694   459359555    104.0   249359555  \n",
       "696   618638999    129.0   545638999  \n",
       "697   368780809     92.0   275780809  \n",
       "701   312242626    107.0   272242626  \n",
       "704   300228084     97.0   240228084  \n",
       "\n",
       "[510 rows x 15 columns]"
      ]
     },
     "execution_count": 76,
     "metadata": {},
     "output_type": "execute_result"
    }
   ],
   "source": []
  },
  {
   "cell_type": "code",
   "execution_count": 10,
   "metadata": {},
   "outputs": [],
   "source": [
    "#change release date to just years\n",
    "df['Release Date'] = df['Release Date'].apply(lambda x: x[0:4])"
   ]
  },
  {
   "cell_type": "code",
   "execution_count": 9,
   "metadata": {},
   "outputs": [],
   "source": [
    "#change column names\n",
    "df.columns = ['ID', 'Title', 'Release Date', 'Popularity', 'Vote AVG', 'Vote Count', 'Genre ID', 'Original Language', 'MetaCritic Score']"
   ]
  },
  {
   "cell_type": "code",
   "execution_count": null,
   "metadata": {
    "scrolled": true
   },
   "outputs": [],
   "source": [
    "df['Original Language'].unique()"
   ]
  },
  {
   "cell_type": "code",
   "execution_count": 11,
   "metadata": {},
   "outputs": [],
   "source": [
    "#drop all films that are not english\n",
    "\n",
    "df.drop(df[df['Original Language'] != 'en' ].index , inplace=True)"
   ]
  },
  {
   "cell_type": "code",
   "execution_count": null,
   "metadata": {},
   "outputs": [],
   "source": []
  },
  {
   "cell_type": "code",
   "execution_count": 22,
   "metadata": {},
   "outputs": [],
   "source": [
    "#import budget cvs\n",
    "\n",
    "budget_df = pd.read_csv('budget_df.csv')"
   ]
  },
  {
   "cell_type": "code",
   "execution_count": 27,
   "metadata": {},
   "outputs": [],
   "source": [
    "#rename id to ID to match df database\n",
    "budget_df = budget_df.rename(columns={'id':'ID'})"
   ]
  },
  {
   "cell_type": "code",
   "execution_count": 13,
   "metadata": {},
   "outputs": [
    {
     "data": {
      "text/plain": [
       "0      419704\n",
       "1      335988\n",
       "2      290859\n",
       "3      299536\n",
       "4      429617\n",
       "        ...  \n",
       "713    577902\n",
       "714    472849\n",
       "715    444922\n",
       "716    404798\n",
       "717    390149\n",
       "Name: ID, Length: 718, dtype: int64"
      ]
     },
     "execution_count": 13,
     "metadata": {},
     "output_type": "execute_result"
    }
   ],
   "source": [
    "#check data time as budget IDs\n",
    "\n",
    "budget_df['ID']"
   ]
  },
  {
   "cell_type": "code",
   "execution_count": 15,
   "metadata": {},
   "outputs": [],
   "source": [
    "#change datatype of df IDs to int64\n",
    "\n",
    "df['ID'] = df['ID'].astype('int64')"
   ]
  },
  {
   "cell_type": "code",
   "execution_count": 16,
   "metadata": {},
   "outputs": [],
   "source": [
    "df2 = df.merge(budget_df, on='ID', how='inner')"
   ]
  },
  {
   "cell_type": "code",
   "execution_count": null,
   "metadata": {},
   "outputs": [],
   "source": []
  },
  {
   "cell_type": "code",
   "execution_count": 19,
   "metadata": {},
   "outputs": [],
   "source": [
    "#drop movies with no revenue data\n",
    "\n",
    "df2.drop(df2[df2['revenue'] == 0].index, inplace=True)"
   ]
  },
  {
   "cell_type": "code",
   "execution_count": 20,
   "metadata": {},
   "outputs": [],
   "source": [
    "#drop movies with no budget data\n",
    "\n",
    "df2.drop(df2[df2['budget'] == 0].index, inplace=True)"
   ]
  },
  {
   "cell_type": "code",
   "execution_count": 22,
   "metadata": {},
   "outputs": [],
   "source": [
    "#create a new column for profit\n",
    "df2['profit'] = df2.apply(lambda row: (row['revenue'] - \n",
    "                                  row['budget']), axis = 1)"
   ]
  },
  {
   "cell_type": "code",
   "execution_count": 28,
   "metadata": {},
   "outputs": [
    {
     "data": {
      "text/html": [
       "<div>\n",
       "<style scoped>\n",
       "    .dataframe tbody tr th:only-of-type {\n",
       "        vertical-align: middle;\n",
       "    }\n",
       "\n",
       "    .dataframe tbody tr th {\n",
       "        vertical-align: top;\n",
       "    }\n",
       "\n",
       "    .dataframe thead th {\n",
       "        text-align: right;\n",
       "    }\n",
       "</style>\n",
       "<table border=\"1\" class=\"dataframe\">\n",
       "  <thead>\n",
       "    <tr style=\"text-align: right;\">\n",
       "      <th></th>\n",
       "      <th>ID</th>\n",
       "      <th>Title</th>\n",
       "      <th>Release Date</th>\n",
       "      <th>Popularity</th>\n",
       "      <th>Vote AVG</th>\n",
       "      <th>Vote Count</th>\n",
       "      <th>Genre ID</th>\n",
       "      <th>Original Language</th>\n",
       "      <th>MetaCritic Score</th>\n",
       "      <th>Unnamed: 0</th>\n",
       "      <th>belongs_to_collection</th>\n",
       "      <th>budget</th>\n",
       "      <th>revenue</th>\n",
       "      <th>runtime</th>\n",
       "      <th>profit</th>\n",
       "    </tr>\n",
       "  </thead>\n",
       "  <tbody>\n",
       "    <tr>\n",
       "      <td>0</td>\n",
       "      <td>419704</td>\n",
       "      <td>Ad Astra</td>\n",
       "      <td>2019</td>\n",
       "      <td>379.049</td>\n",
       "      <td>6</td>\n",
       "      <td>2099</td>\n",
       "      <td>[12, 18, 9648, 878, 53]</td>\n",
       "      <td>en</td>\n",
       "      <td>80</td>\n",
       "      <td>0</td>\n",
       "      <td>False</td>\n",
       "      <td>87500000</td>\n",
       "      <td>127175922</td>\n",
       "      <td>123.0</td>\n",
       "      <td>39675922</td>\n",
       "    </tr>\n",
       "    <tr>\n",
       "      <td>1</td>\n",
       "      <td>335988</td>\n",
       "      <td>Transformers: The Last Knight</td>\n",
       "      <td>2017</td>\n",
       "      <td>83.858</td>\n",
       "      <td>6</td>\n",
       "      <td>3571</td>\n",
       "      <td>[28, 12, 878, 53]</td>\n",
       "      <td>en</td>\n",
       "      <td>27</td>\n",
       "      <td>1</td>\n",
       "      <td>True</td>\n",
       "      <td>217000000</td>\n",
       "      <td>605425157</td>\n",
       "      <td>149.0</td>\n",
       "      <td>388425157</td>\n",
       "    </tr>\n",
       "    <tr>\n",
       "      <td>2</td>\n",
       "      <td>290859</td>\n",
       "      <td>Terminator: Dark Fate</td>\n",
       "      <td>2019</td>\n",
       "      <td>138.576</td>\n",
       "      <td>6</td>\n",
       "      <td>1191</td>\n",
       "      <td>[28, 878]</td>\n",
       "      <td>en</td>\n",
       "      <td>54</td>\n",
       "      <td>2</td>\n",
       "      <td>True</td>\n",
       "      <td>185000000</td>\n",
       "      <td>233685077</td>\n",
       "      <td>128.0</td>\n",
       "      <td>48685077</td>\n",
       "    </tr>\n",
       "    <tr>\n",
       "      <td>3</td>\n",
       "      <td>299536</td>\n",
       "      <td>Avengers: Infinity War</td>\n",
       "      <td>2018</td>\n",
       "      <td>78.825</td>\n",
       "      <td>8</td>\n",
       "      <td>16570</td>\n",
       "      <td>[28, 12, 878]</td>\n",
       "      <td>en</td>\n",
       "      <td>68</td>\n",
       "      <td>3</td>\n",
       "      <td>True</td>\n",
       "      <td>300000000</td>\n",
       "      <td>2046239637</td>\n",
       "      <td>149.0</td>\n",
       "      <td>1746239637</td>\n",
       "    </tr>\n",
       "    <tr>\n",
       "      <td>4</td>\n",
       "      <td>429617</td>\n",
       "      <td>Spider-Man: Far from Home</td>\n",
       "      <td>2019</td>\n",
       "      <td>55.743</td>\n",
       "      <td>8</td>\n",
       "      <td>5837</td>\n",
       "      <td>[28, 12, 878]</td>\n",
       "      <td>en</td>\n",
       "      <td>69</td>\n",
       "      <td>4</td>\n",
       "      <td>True</td>\n",
       "      <td>160000000</td>\n",
       "      <td>1131450163</td>\n",
       "      <td>129.0</td>\n",
       "      <td>971450163</td>\n",
       "    </tr>\n",
       "    <tr>\n",
       "      <td>...</td>\n",
       "      <td>...</td>\n",
       "      <td>...</td>\n",
       "      <td>...</td>\n",
       "      <td>...</td>\n",
       "      <td>...</td>\n",
       "      <td>...</td>\n",
       "      <td>...</td>\n",
       "      <td>...</td>\n",
       "      <td>...</td>\n",
       "      <td>...</td>\n",
       "      <td>...</td>\n",
       "      <td>...</td>\n",
       "      <td>...</td>\n",
       "      <td>...</td>\n",
       "      <td>...</td>\n",
       "    </tr>\n",
       "    <tr>\n",
       "      <td>694</td>\n",
       "      <td>36668</td>\n",
       "      <td>X-Men: The Last Stand</td>\n",
       "      <td>2006</td>\n",
       "      <td>1.041</td>\n",
       "      <td>6</td>\n",
       "      <td>6424</td>\n",
       "      <td>[28, 12, 878, 53]</td>\n",
       "      <td>en</td>\n",
       "      <td>58</td>\n",
       "      <td>694</td>\n",
       "      <td>True</td>\n",
       "      <td>210000000</td>\n",
       "      <td>459359555</td>\n",
       "      <td>104.0</td>\n",
       "      <td>249359555</td>\n",
       "    </tr>\n",
       "    <tr>\n",
       "      <td>696</td>\n",
       "      <td>330</td>\n",
       "      <td>The Lost World: Jurassic Park</td>\n",
       "      <td>1997</td>\n",
       "      <td>1.030</td>\n",
       "      <td>6</td>\n",
       "      <td>4923</td>\n",
       "      <td>[28, 12, 878]</td>\n",
       "      <td>en</td>\n",
       "      <td>59</td>\n",
       "      <td>696</td>\n",
       "      <td>True</td>\n",
       "      <td>73000000</td>\n",
       "      <td>618638999</td>\n",
       "      <td>129.0</td>\n",
       "      <td>545638999</td>\n",
       "    </tr>\n",
       "    <tr>\n",
       "      <td>697</td>\n",
       "      <td>331</td>\n",
       "      <td>Jurassic Park III</td>\n",
       "      <td>2001</td>\n",
       "      <td>0.807</td>\n",
       "      <td>6</td>\n",
       "      <td>4224</td>\n",
       "      <td>[12, 28, 53, 878]</td>\n",
       "      <td>en</td>\n",
       "      <td>42</td>\n",
       "      <td>697</td>\n",
       "      <td>True</td>\n",
       "      <td>93000000</td>\n",
       "      <td>368780809</td>\n",
       "      <td>92.0</td>\n",
       "      <td>275780809</td>\n",
       "    </tr>\n",
       "    <tr>\n",
       "      <td>701</td>\n",
       "      <td>173897</td>\n",
       "      <td>Resident Evil: The Final Chapter</td>\n",
       "      <td>2016</td>\n",
       "      <td>0.806</td>\n",
       "      <td>6</td>\n",
       "      <td>1690</td>\n",
       "      <td>[28, 27, 878]</td>\n",
       "      <td>en</td>\n",
       "      <td>49</td>\n",
       "      <td>701</td>\n",
       "      <td>True</td>\n",
       "      <td>40000000</td>\n",
       "      <td>312242626</td>\n",
       "      <td>107.0</td>\n",
       "      <td>272242626</td>\n",
       "    </tr>\n",
       "    <tr>\n",
       "      <td>704</td>\n",
       "      <td>35791</td>\n",
       "      <td>Resident Evil: Afterlife</td>\n",
       "      <td>2010</td>\n",
       "      <td>0.605</td>\n",
       "      <td>6</td>\n",
       "      <td>2308</td>\n",
       "      <td>[28, 12, 27, 878]</td>\n",
       "      <td>en</td>\n",
       "      <td>37</td>\n",
       "      <td>704</td>\n",
       "      <td>True</td>\n",
       "      <td>60000000</td>\n",
       "      <td>300228084</td>\n",
       "      <td>97.0</td>\n",
       "      <td>240228084</td>\n",
       "    </tr>\n",
       "  </tbody>\n",
       "</table>\n",
       "<p>474 rows × 15 columns</p>\n",
       "</div>"
      ],
      "text/plain": [
       "         ID                             Title Release Date  Popularity  \\\n",
       "0    419704                          Ad Astra         2019     379.049   \n",
       "1    335988     Transformers: The Last Knight         2017      83.858   \n",
       "2    290859             Terminator: Dark Fate         2019     138.576   \n",
       "3    299536            Avengers: Infinity War         2018      78.825   \n",
       "4    429617         Spider-Man: Far from Home         2019      55.743   \n",
       "..      ...                               ...          ...         ...   \n",
       "694   36668             X-Men: The Last Stand         2006       1.041   \n",
       "696     330     The Lost World: Jurassic Park         1997       1.030   \n",
       "697     331                 Jurassic Park III         2001       0.807   \n",
       "701  173897  Resident Evil: The Final Chapter         2016       0.806   \n",
       "704   35791          Resident Evil: Afterlife         2010       0.605   \n",
       "\n",
       "     Vote AVG  Vote Count                 Genre ID Original Language  \\\n",
       "0           6        2099  [12, 18, 9648, 878, 53]                en   \n",
       "1           6        3571        [28, 12, 878, 53]                en   \n",
       "2           6        1191                [28, 878]                en   \n",
       "3           8       16570            [28, 12, 878]                en   \n",
       "4           8        5837            [28, 12, 878]                en   \n",
       "..        ...         ...                      ...               ...   \n",
       "694         6        6424        [28, 12, 878, 53]                en   \n",
       "696         6        4923            [28, 12, 878]                en   \n",
       "697         6        4224        [12, 28, 53, 878]                en   \n",
       "701         6        1690            [28, 27, 878]                en   \n",
       "704         6        2308        [28, 12, 27, 878]                en   \n",
       "\n",
       "     MetaCritic Score  Unnamed: 0  belongs_to_collection     budget  \\\n",
       "0                  80           0                  False   87500000   \n",
       "1                  27           1                   True  217000000   \n",
       "2                  54           2                   True  185000000   \n",
       "3                  68           3                   True  300000000   \n",
       "4                  69           4                   True  160000000   \n",
       "..                ...         ...                    ...        ...   \n",
       "694                58         694                   True  210000000   \n",
       "696                59         696                   True   73000000   \n",
       "697                42         697                   True   93000000   \n",
       "701                49         701                   True   40000000   \n",
       "704                37         704                   True   60000000   \n",
       "\n",
       "        revenue  runtime      profit  \n",
       "0     127175922    123.0    39675922  \n",
       "1     605425157    149.0   388425157  \n",
       "2     233685077    128.0    48685077  \n",
       "3    2046239637    149.0  1746239637  \n",
       "4    1131450163    129.0   971450163  \n",
       "..          ...      ...         ...  \n",
       "694   459359555    104.0   249359555  \n",
       "696   618638999    129.0   545638999  \n",
       "697   368780809     92.0   275780809  \n",
       "701   312242626    107.0   272242626  \n",
       "704   300228084     97.0   240228084  \n",
       "\n",
       "[474 rows x 15 columns]"
      ]
     },
     "execution_count": 28,
     "metadata": {},
     "output_type": "execute_result"
    }
   ],
   "source": [
    "df2"
   ]
  },
  {
   "cell_type": "code",
   "execution_count": 40,
   "metadata": {},
   "outputs": [
    {
     "data": {
      "text/plain": [
       "<matplotlib.axes._subplots.AxesSubplot at 0x1a1c77b5d0>"
      ]
     },
     "execution_count": 40,
     "metadata": {},
     "output_type": "execute_result"
    },
    {
     "data": {
      "image/png": "[encoded data removed]",
      "text/plain": [
       "<Figure size 432x288 with 1 Axes>"
      ]
     },
     "metadata": {
      "needs_background": "light"
     },
     "output_type": "display_data"
    }
   ],
   "source": [
    "sns.scatterplot(data=df2, x='Popularity', y='runtime', hue='belongs_to_collection')\n",
    "\n"
   ]
  },
  {
   "cell_type": "code",
   "execution_count": 39,
   "metadata": {},
   "outputs": [
    {
     "data": {
      "text/plain": [
       "<matplotlib.axes._subplots.AxesSubplot at 0x1a1c7da210>"
      ]
     },
     "execution_count": 39,
     "metadata": {},
     "output_type": "execute_result"
    },
    {
     "data": {
      "image/png": "[encoded data removed]",
      "text/plain": [
       "<Figure size 432x288 with 1 Axes>"
      ]
     },
     "metadata": {
      "needs_background": "light"
     },
     "output_type": "display_data"
    }
   ],
   "source": [
    "sns.scatterplot(data=df2, x='MetaCritic Score', y='runtime', hue='belongs_to_collection')"
   ]
  },
  {
   "cell_type": "code",
   "execution_count": 34,
   "metadata": {},
   "outputs": [],
   "source": [
    "df3 = df2.groupby('belongs_to_collection')['Popularity'].mean().reset_index()"
   ]
  },
  {
   "cell_type": "markdown",
   "metadata": {},
   "source": [
    "df3"
   ]
  },
  {
   "cell_type": "code",
   "execution_count": 36,
   "metadata": {},
   "outputs": [
    {
     "data": {
      "text/plain": [
       "<matplotlib.axes._subplots.AxesSubplot at 0x1a1c9dde50>"
      ]
     },
     "execution_count": 36,
     "metadata": {},
     "output_type": "execute_result"
    },
    {
     "data": {
      "image/png": "[encoded data removed]",
      "text/plain": [
       "<Figure size 432x288 with 1 Axes>"
      ]
     },
     "metadata": {
      "needs_background": "light"
     },
     "output_type": "display_data"
    }
   ],
   "source": [
    "sns.barplot(data=df3, x='belongs_to_collection', y='Popularity')"
   ]
  },
  {
   "cell_type": "code",
   "execution_count": 37,
   "metadata": {},
   "outputs": [
    {
     "data": {
      "text/plain": [
       "<matplotlib.axes._subplots.AxesSubplot at 0x1a1c7a62d0>"
      ]
     },
     "execution_count": 37,
     "metadata": {},
     "output_type": "execute_result"
    },
    {
     "data": {
      "image/png": "[encoded data removed]",
      "text/plain": [
       "<Figure size 432x288 with 1 Axes>"
      ]
     },
     "metadata": {
      "needs_background": "light"
     },
     "output_type": "display_data"
    }
   ],
   "source": [
    "sns.scatterplot(data=df2, x='budget', y='MetaCritic Score')"
   ]
  },
  {
   "cell_type": "code",
   "execution_count": null,
   "metadata": {
    "scrolled": true
   },
   "outputs": [],
   "source": [
    "#release year vs critic score\n",
    "\n",
    "\n",
    "sns.scatterplot(data=df, x='Release Date', y='MetaCritic Score')"
   ]
  },
  {
   "cell_type": "code",
   "execution_count": null,
   "metadata": {},
   "outputs": [],
   "source": []
  },
  {
   "cell_type": "code",
   "execution_count": 69,
   "metadata": {},
   "outputs": [],
   "source": [
    "year_pop_median = df2.groupby('Release Date')['Popularity'].median().reset_index()"
   ]
  },
  {
   "cell_type": "code",
   "execution_count": 109,
   "metadata": {},
   "outputs": [
    {
     "data": {
      "text/plain": [
       "Text(0.5, 1.0, 'Popularity of SciFi Movies')"
      ]
     },
     "execution_count": 109,
     "metadata": {},
     "output_type": "execute_result"
    },
    {
     "data": {
      "image/png": "[encoded data removed]",
      "text/plain": [
       "<Figure size 1080x576 with 1 Axes>"
      ]
     },
     "metadata": {
      "needs_background": "light"
     },
     "output_type": "display_data"
    }
   ],
   "source": [
    "year_pop_median.plot(kind='bar', rot=90, x='Release Date', width=.5, figsize=(15,8))\n",
    "plt.ylabel('Median Popularity')\n",
    "plt.xlabel('# of Movies per Year')\n",
    "plt.title('Popularity of SciFi Movies')"
   ]
  },
  {
   "cell_type": "code",
   "execution_count": null,
   "metadata": {},
   "outputs": [],
   "source": []
  },
  {
   "cell_type": "code",
   "execution_count": 92,
   "metadata": {},
   "outputs": [],
   "source": [
    "#median movies per year vs. metacritic score\n",
    "\n",
    "year_score_median = df2.groupby('Release Date')['MetaCritic Score'].median().reset_index()"
   ]
  },
  {
   "cell_type": "code",
   "execution_count": null,
   "metadata": {},
   "outputs": [],
   "source": []
  },
  {
   "cell_type": "code",
   "execution_count": 110,
   "metadata": {},
   "outputs": [
    {
     "data": {
      "text/plain": [
       "Text(0.5, 1.0, 'MetaCritic Scores of SciFi Movies')"
      ]
     },
     "execution_count": 110,
     "metadata": {},
     "output_type": "execute_result"
    },
    {
     "data": {
      "image/png": "[encoded data removed]",
      "text/plain": [
       "<Figure size 1080x576 with 1 Axes>"
      ]
     },
     "metadata": {
      "needs_background": "light"
     },
     "output_type": "display_data"
    }
   ],
   "source": [
    "year_score_median.plot(kind='bar', rot=90, x='Release Date', width=.5, figsize=(15,8))\n",
    "plt.ylabel('Median MetaCritic Score')\n",
    "plt.xlabel('# of Movies per Year')\n",
    "plt.title('MetaCritic Scores of SciFi Movies')"
   ]
  },
  {
   "cell_type": "code",
   "execution_count": 72,
   "metadata": {},
   "outputs": [
    {
     "data": {
      "text/plain": [
       "<matplotlib.axes._subplots.AxesSubplot at 0x1a1db0e090>"
      ]
     },
     "execution_count": 72,
     "metadata": {},
     "output_type": "execute_result"
    },
    {
     "data": {
      "image/png": "[encoded data removed]",
      "text/plain": [
       "<Figure size 432x288 with 1 Axes>"
      ]
     },
     "metadata": {
      "needs_background": "light"
     },
     "output_type": "display_data"
    }
   ],
   "source": [
    "#median movies per year vs. popularity\n",
    "sns.barplot(data=year_pop_median, x='Release Date', y='Popularity')"
   ]
  },
  {
   "cell_type": "code",
   "execution_count": 42,
   "metadata": {},
   "outputs": [],
   "source": [
    "#group by release year\n",
    "year_pop = df2.groupby('Release Date')['Popularity'].mean().reset_index()"
   ]
  },
  {
   "cell_type": "code",
   "execution_count": 51,
   "metadata": {},
   "outputs": [
    {
     "data": {
      "text/plain": [
       "<matplotlib.axes._subplots.AxesSubplot at 0x1a1f11d590>"
      ]
     },
     "execution_count": 51,
     "metadata": {},
     "output_type": "execute_result"
    },
    {
     "data": {
      "image/png": "[encoded data removed]",
      "text/plain": [
       "<Figure size 432x288 with 1 Axes>"
      ]
     },
     "metadata": {
      "needs_background": "light"
     },
     "output_type": "display_data"
    }
   ],
   "source": [
    "sns.barplot(data=year_pop, x='Release Date', y='Popularity',)"
   ]
  },
  {
   "cell_type": "code",
   "execution_count": 111,
   "metadata": {},
   "outputs": [],
   "source": [
    "# year_pop.plot(kind='bar', rot=90, x='Release Date', y='Popularity', )"
   ]
  },
  {
   "cell_type": "code",
   "execution_count": 66,
   "metadata": {},
   "outputs": [],
   "source": [
    "#number of films released over the past 50 years\n",
    "num_movies_per_year = df2.groupby('Release Date')['Title'].count()"
   ]
  },
  {
   "cell_type": "code",
   "execution_count": 112,
   "metadata": {},
   "outputs": [
    {
     "data": {
      "text/plain": [
       "Text(0.5, 1.0, 'SciFi Movies Released Over Past 50 Years')"
      ]
     },
     "execution_count": 112,
     "metadata": {},
     "output_type": "execute_result"
    },
    {
     "data": {
      "image/png": "[encoded data removed]",
      "text/plain": [
       "<Figure size 1080x576 with 1 Axes>"
      ]
     },
     "metadata": {
      "needs_background": "light"
     },
     "output_type": "display_data"
    }
   ],
   "source": [
    "num_movies_per_year.plot(kind='bar', rot=90, x='Release Date', figsize=(15,8))\n",
    "plt.ylabel('# of Movies Released per Year')\n",
    "plt.xlabel('Release Year')\n",
    "plt.title('SciFi Movies Released Over Past 50 Years')"
   ]
  },
  {
   "cell_type": "code",
   "execution_count": 68,
   "metadata": {},
   "outputs": [
    {
     "data": {
      "text/html": [
       "<div>\n",
       "<style scoped>\n",
       "    .dataframe tbody tr th:only-of-type {\n",
       "        vertical-align: middle;\n",
       "    }\n",
       "\n",
       "    .dataframe tbody tr th {\n",
       "        vertical-align: top;\n",
       "    }\n",
       "\n",
       "    .dataframe thead th {\n",
       "        text-align: right;\n",
       "    }\n",
       "</style>\n",
       "<table border=\"1\" class=\"dataframe\">\n",
       "  <thead>\n",
       "    <tr style=\"text-align: right;\">\n",
       "      <th></th>\n",
       "      <th>ID</th>\n",
       "      <th>Title</th>\n",
       "      <th>Release Date</th>\n",
       "      <th>Popularity</th>\n",
       "      <th>Vote AVG</th>\n",
       "      <th>Vote Count</th>\n",
       "      <th>Genre ID</th>\n",
       "      <th>Original Language</th>\n",
       "      <th>MetaCritic Score</th>\n",
       "      <th>Unnamed: 0</th>\n",
       "      <th>belongs_to_collection</th>\n",
       "      <th>budget</th>\n",
       "      <th>revenue</th>\n",
       "      <th>runtime</th>\n",
       "      <th>profit</th>\n",
       "    </tr>\n",
       "  </thead>\n",
       "  <tbody>\n",
       "    <tr>\n",
       "      <td>0</td>\n",
       "      <td>419704</td>\n",
       "      <td>Ad Astra</td>\n",
       "      <td>2019</td>\n",
       "      <td>379.049</td>\n",
       "      <td>6</td>\n",
       "      <td>2099</td>\n",
       "      <td>[12, 18, 9648, 878, 53]</td>\n",
       "      <td>en</td>\n",
       "      <td>80</td>\n",
       "      <td>0</td>\n",
       "      <td>False</td>\n",
       "      <td>87500000</td>\n",
       "      <td>127175922</td>\n",
       "      <td>123.0</td>\n",
       "      <td>39675922</td>\n",
       "    </tr>\n",
       "    <tr>\n",
       "      <td>1</td>\n",
       "      <td>335988</td>\n",
       "      <td>Transformers: The Last Knight</td>\n",
       "      <td>2017</td>\n",
       "      <td>83.858</td>\n",
       "      <td>6</td>\n",
       "      <td>3571</td>\n",
       "      <td>[28, 12, 878, 53]</td>\n",
       "      <td>en</td>\n",
       "      <td>27</td>\n",
       "      <td>1</td>\n",
       "      <td>True</td>\n",
       "      <td>217000000</td>\n",
       "      <td>605425157</td>\n",
       "      <td>149.0</td>\n",
       "      <td>388425157</td>\n",
       "    </tr>\n",
       "    <tr>\n",
       "      <td>2</td>\n",
       "      <td>290859</td>\n",
       "      <td>Terminator: Dark Fate</td>\n",
       "      <td>2019</td>\n",
       "      <td>138.576</td>\n",
       "      <td>6</td>\n",
       "      <td>1191</td>\n",
       "      <td>[28, 878]</td>\n",
       "      <td>en</td>\n",
       "      <td>54</td>\n",
       "      <td>2</td>\n",
       "      <td>True</td>\n",
       "      <td>185000000</td>\n",
       "      <td>233685077</td>\n",
       "      <td>128.0</td>\n",
       "      <td>48685077</td>\n",
       "    </tr>\n",
       "    <tr>\n",
       "      <td>3</td>\n",
       "      <td>299536</td>\n",
       "      <td>Avengers: Infinity War</td>\n",
       "      <td>2018</td>\n",
       "      <td>78.825</td>\n",
       "      <td>8</td>\n",
       "      <td>16570</td>\n",
       "      <td>[28, 12, 878]</td>\n",
       "      <td>en</td>\n",
       "      <td>68</td>\n",
       "      <td>3</td>\n",
       "      <td>True</td>\n",
       "      <td>300000000</td>\n",
       "      <td>2046239637</td>\n",
       "      <td>149.0</td>\n",
       "      <td>1746239637</td>\n",
       "    </tr>\n",
       "    <tr>\n",
       "      <td>4</td>\n",
       "      <td>429617</td>\n",
       "      <td>Spider-Man: Far from Home</td>\n",
       "      <td>2019</td>\n",
       "      <td>55.743</td>\n",
       "      <td>8</td>\n",
       "      <td>5837</td>\n",
       "      <td>[28, 12, 878]</td>\n",
       "      <td>en</td>\n",
       "      <td>69</td>\n",
       "      <td>4</td>\n",
       "      <td>True</td>\n",
       "      <td>160000000</td>\n",
       "      <td>1131450163</td>\n",
       "      <td>129.0</td>\n",
       "      <td>971450163</td>\n",
       "    </tr>\n",
       "    <tr>\n",
       "      <td>...</td>\n",
       "      <td>...</td>\n",
       "      <td>...</td>\n",
       "      <td>...</td>\n",
       "      <td>...</td>\n",
       "      <td>...</td>\n",
       "      <td>...</td>\n",
       "      <td>...</td>\n",
       "      <td>...</td>\n",
       "      <td>...</td>\n",
       "      <td>...</td>\n",
       "      <td>...</td>\n",
       "      <td>...</td>\n",
       "      <td>...</td>\n",
       "      <td>...</td>\n",
       "      <td>...</td>\n",
       "    </tr>\n",
       "    <tr>\n",
       "      <td>694</td>\n",
       "      <td>36668</td>\n",
       "      <td>X-Men: The Last Stand</td>\n",
       "      <td>2006</td>\n",
       "      <td>1.041</td>\n",
       "      <td>6</td>\n",
       "      <td>6424</td>\n",
       "      <td>[28, 12, 878, 53]</td>\n",
       "      <td>en</td>\n",
       "      <td>58</td>\n",
       "      <td>694</td>\n",
       "      <td>True</td>\n",
       "      <td>210000000</td>\n",
       "      <td>459359555</td>\n",
       "      <td>104.0</td>\n",
       "      <td>249359555</td>\n",
       "    </tr>\n",
       "    <tr>\n",
       "      <td>696</td>\n",
       "      <td>330</td>\n",
       "      <td>The Lost World: Jurassic Park</td>\n",
       "      <td>1997</td>\n",
       "      <td>1.030</td>\n",
       "      <td>6</td>\n",
       "      <td>4923</td>\n",
       "      <td>[28, 12, 878]</td>\n",
       "      <td>en</td>\n",
       "      <td>59</td>\n",
       "      <td>696</td>\n",
       "      <td>True</td>\n",
       "      <td>73000000</td>\n",
       "      <td>618638999</td>\n",
       "      <td>129.0</td>\n",
       "      <td>545638999</td>\n",
       "    </tr>\n",
       "    <tr>\n",
       "      <td>697</td>\n",
       "      <td>331</td>\n",
       "      <td>Jurassic Park III</td>\n",
       "      <td>2001</td>\n",
       "      <td>0.807</td>\n",
       "      <td>6</td>\n",
       "      <td>4224</td>\n",
       "      <td>[12, 28, 53, 878]</td>\n",
       "      <td>en</td>\n",
       "      <td>42</td>\n",
       "      <td>697</td>\n",
       "      <td>True</td>\n",
       "      <td>93000000</td>\n",
       "      <td>368780809</td>\n",
       "      <td>92.0</td>\n",
       "      <td>275780809</td>\n",
       "    </tr>\n",
       "    <tr>\n",
       "      <td>701</td>\n",
       "      <td>173897</td>\n",
       "      <td>Resident Evil: The Final Chapter</td>\n",
       "      <td>2016</td>\n",
       "      <td>0.806</td>\n",
       "      <td>6</td>\n",
       "      <td>1690</td>\n",
       "      <td>[28, 27, 878]</td>\n",
       "      <td>en</td>\n",
       "      <td>49</td>\n",
       "      <td>701</td>\n",
       "      <td>True</td>\n",
       "      <td>40000000</td>\n",
       "      <td>312242626</td>\n",
       "      <td>107.0</td>\n",
       "      <td>272242626</td>\n",
       "    </tr>\n",
       "    <tr>\n",
       "      <td>704</td>\n",
       "      <td>35791</td>\n",
       "      <td>Resident Evil: Afterlife</td>\n",
       "      <td>2010</td>\n",
       "      <td>0.605</td>\n",
       "      <td>6</td>\n",
       "      <td>2308</td>\n",
       "      <td>[28, 12, 27, 878]</td>\n",
       "      <td>en</td>\n",
       "      <td>37</td>\n",
       "      <td>704</td>\n",
       "      <td>True</td>\n",
       "      <td>60000000</td>\n",
       "      <td>300228084</td>\n",
       "      <td>97.0</td>\n",
       "      <td>240228084</td>\n",
       "    </tr>\n",
       "  </tbody>\n",
       "</table>\n",
       "<p>474 rows × 15 columns</p>\n",
       "</div>"
      ],
      "text/plain": [
       "         ID                             Title Release Date  Popularity  \\\n",
       "0    419704                          Ad Astra         2019     379.049   \n",
       "1    335988     Transformers: The Last Knight         2017      83.858   \n",
       "2    290859             Terminator: Dark Fate         2019     138.576   \n",
       "3    299536            Avengers: Infinity War         2018      78.825   \n",
       "4    429617         Spider-Man: Far from Home         2019      55.743   \n",
       "..      ...                               ...          ...         ...   \n",
       "694   36668             X-Men: The Last Stand         2006       1.041   \n",
       "696     330     The Lost World: Jurassic Park         1997       1.030   \n",
       "697     331                 Jurassic Park III         2001       0.807   \n",
       "701  173897  Resident Evil: The Final Chapter         2016       0.806   \n",
       "704   35791          Resident Evil: Afterlife         2010       0.605   \n",
       "\n",
       "     Vote AVG  Vote Count                 Genre ID Original Language  \\\n",
       "0           6        2099  [12, 18, 9648, 878, 53]                en   \n",
       "1           6        3571        [28, 12, 878, 53]                en   \n",
       "2           6        1191                [28, 878]                en   \n",
       "3           8       16570            [28, 12, 878]                en   \n",
       "4           8        5837            [28, 12, 878]                en   \n",
       "..        ...         ...                      ...               ...   \n",
       "694         6        6424        [28, 12, 878, 53]                en   \n",
       "696         6        4923            [28, 12, 878]                en   \n",
       "697         6        4224        [12, 28, 53, 878]                en   \n",
       "701         6        1690            [28, 27, 878]                en   \n",
       "704         6        2308        [28, 12, 27, 878]                en   \n",
       "\n",
       "     MetaCritic Score  Unnamed: 0  belongs_to_collection     budget  \\\n",
       "0                  80           0                  False   87500000   \n",
       "1                  27           1                   True  217000000   \n",
       "2                  54           2                   True  185000000   \n",
       "3                  68           3                   True  300000000   \n",
       "4                  69           4                   True  160000000   \n",
       "..                ...         ...                    ...        ...   \n",
       "694                58         694                   True  210000000   \n",
       "696                59         696                   True   73000000   \n",
       "697                42         697                   True   93000000   \n",
       "701                49         701                   True   40000000   \n",
       "704                37         704                   True   60000000   \n",
       "\n",
       "        revenue  runtime      profit  \n",
       "0     127175922    123.0    39675922  \n",
       "1     605425157    149.0   388425157  \n",
       "2     233685077    128.0    48685077  \n",
       "3    2046239637    149.0  1746239637  \n",
       "4    1131450163    129.0   971450163  \n",
       "..          ...      ...         ...  \n",
       "694   459359555    104.0   249359555  \n",
       "696   618638999    129.0   545638999  \n",
       "697   368780809     92.0   275780809  \n",
       "701   312242626    107.0   272242626  \n",
       "704   300228084     97.0   240228084  \n",
       "\n",
       "[474 rows x 15 columns]"
      ]
     },
     "execution_count": 68,
     "metadata": {},
     "output_type": "execute_result"
    }
   ],
   "source": [
    "df2"
   ]
  },
  {
   "cell_type": "code",
   "execution_count": 81,
   "metadata": {},
   "outputs": [],
   "source": [
    "#release vs profit\n",
    "\n",
    "release_profit = df2.groupby('Release Date')['profit'].median().reset_index()"
   ]
  },
  {
   "cell_type": "code",
   "execution_count": 113,
   "metadata": {},
   "outputs": [
    {
     "data": {
      "text/plain": [
       "Text(0.5, 1.0, 'Profit of SciFi Movies Per Year')"
      ]
     },
     "execution_count": 113,
     "metadata": {},
     "output_type": "execute_result"
    },
    {
     "data": {
      "image/png": "[encoded data removed]",
      "text/plain": [
       "<Figure size 1080x576 with 1 Axes>"
      ]
     },
     "metadata": {
      "needs_background": "light"
     },
     "output_type": "display_data"
    }
   ],
   "source": [
    "release_profit.plot(kind='bar', x='Release Date', figsize=(15,8))\n",
    "plt.ylabel('Median Profit')\n",
    "plt.xlabel('Release Year')\n",
    "plt.title('Profit of SciFi Movies Per Year')"
   ]
  },
  {
   "cell_type": "code",
   "execution_count": null,
   "metadata": {},
   "outputs": [],
   "source": []
  },
  {
   "cell_type": "code",
   "execution_count": 53,
   "metadata": {},
   "outputs": [],
   "source": [
    "import matplotlib.pyplot as plt\n"
   ]
  },
  {
   "cell_type": "code",
   "execution_count": null,
   "metadata": {},
   "outputs": [],
   "source": [
    "#release year vs popularity\n",
    "plt.plot(kind='bar',)\n",
    "\n",
    "\n",
    "\n",
    "# sns.barplot(data=df, x='Release Date', y='MetaCritic Score', kind='bar')"
   ]
  },
  {
   "cell_type": "code",
   "execution_count": null,
   "metadata": {},
   "outputs": [],
   "source": [
    "#Genre ID vs Popularity\n",
    "\n",
    "\n",
    "sns.barplot(data=df, y='Popularity', x='Release Date')"
   ]
  },
  {
   "cell_type": "code",
   "execution_count": null,
   "metadata": {},
   "outputs": [],
   "source": []
  },
  {
   "cell_type": "code",
   "execution_count": null,
   "metadata": {},
   "outputs": [],
   "source": []
  },
  {
   "cell_type": "code",
   "execution_count": null,
   "metadata": {},
   "outputs": [],
   "source": []
  },
  {
   "cell_type": "code",
   "execution_count": null,
   "metadata": {},
   "outputs": [],
   "source": []
  },
  {
   "cell_type": "code",
   "execution_count": null,
   "metadata": {},
   "outputs": [],
   "source": []
  },
  {
   "cell_type": "code",
   "execution_count": null,
   "metadata": {},
   "outputs": [],
   "source": [
    "cursor.execute('''SELECT ID FROM The_Big_Table;\n",
    "''')"
   ]
  },
  {
   "cell_type": "code",
   "execution_count": null,
   "metadata": {},
   "outputs": [],
   "source": [
    "ID_list = cursor.fetchall()"
   ]
  },
  {
   "cell_type": "code",
   "execution_count": null,
   "metadata": {},
   "outputs": [],
   "source": [
    "movie_id_list = []"
   ]
  },
  {
   "cell_type": "code",
   "execution_count": null,
   "metadata": {},
   "outputs": [],
   "source": [
    "movie_id_list = [x[0] for x in ID_list]"
   ]
  },
  {
   "cell_type": "code",
   "execution_count": null,
   "metadata": {},
   "outputs": [],
   "source": [
    "movie_id_list"
   ]
  },
  {
   "cell_type": "code",
   "execution_count": null,
   "metadata": {},
   "outputs": [],
   "source": []
  }
 ],
 "metadata": {
  "kernelspec": {
   "display_name": "Python 3",
   "language": "python",
   "name": "python3"
  },
  "language_info": {
   "codemirror_mode": {
    "name": "ipython",
    "version": 3
   },
   "file_extension": ".py",
   "mimetype": "text/x-python",
   "name": "python",
   "nbconvert_exporter": "python",
   "pygments_lexer": "ipython3",
   "version": "3.7.4"
  }
 },
 "nbformat": 4,
 "nbformat_minor": 2
}
